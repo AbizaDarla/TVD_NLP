{
  "nbformat": 4,
  "nbformat_minor": 0,
  "metadata": {
    "colab": {
      "provenance": []
    },
    "kernelspec": {
      "name": "python3",
      "display_name": "Python 3"
    },
    "language_info": {
      "name": "python"
    }
  },
  "cells": [
    {
      "cell_type": "code",
      "source": [
        "import requests\n",
        "from bs4 import BeautifulSoup\n",
        "import re\n",
        "import pandas as pd"
      ],
      "metadata": {
        "id": "dl2izDcZE284"
      },
      "execution_count": 71,
      "outputs": []
    },
    {
      "cell_type": "code",
      "source": [
        "pages_links = [\"https://transcripts.foreverdreaming.org/viewforum.php?f=18\",\n",
        "               \"https://transcripts.foreverdreaming.org/viewforum.php?f=18&start=25\",\n",
        "               \"https://transcripts.foreverdreaming.org/viewforum.php?f=18&start=50\",\n",
        "               \"https://transcripts.foreverdreaming.org/viewforum.php?f=18&start=75\",\n",
        "               \"https://transcripts.foreverdreaming.org/viewforum.php?f=18&start=100\",\n",
        "               \"https://transcripts.foreverdreaming.org/viewforum.php?f=18&start=125\",\n",
        "               \"https://transcripts.foreverdreaming.org/viewforum.php?f=18&start=150\"]"
      ],
      "metadata": {
        "id": "dBB0DrekQK7i"
      },
      "execution_count": 2,
      "outputs": []
    },
    {
      "cell_type": "code",
      "execution_count": 108,
      "metadata": {
        "id": "uUtfsb-Witg_"
      },
      "outputs": [],
      "source": [
        "#get all episode links in a page \n",
        "def get_all_links_in_page(url):\n",
        "  reqs = requests.get(url)\n",
        "  soup = BeautifulSoup(reqs.text, 'html.parser')\n",
        " \n",
        "  urls = []\n",
        "  for link in soup.find_all('a'):\n",
        "    link = link.get('href')\n",
        "    if \"./viewtopic.php?\" in link:\n",
        "      urls.append(\"https://transcripts.foreverdreaming.org/\" + link[2:])\n",
        "  return urls[2:]"
      ]
    },
    {
      "cell_type": "code",
      "source": [
        "#get episodes transcript \n",
        "def episode_script(url):\n",
        "  script = []\n",
        "  html_content = requests.get(url).text\n",
        "  soup = BeautifulSoup(html_content, \"html.parser\")\n",
        "  texts = soup.find_all('p')\n",
        "  for text in texts:\n",
        "    line = text.get_text()\n",
        "    if ':' in line:\n",
        "      script.append(line)\n",
        "  return(script)"
      ],
      "metadata": {
        "id": "nuasswchGKCu"
      },
      "execution_count": 57,
      "outputs": []
    },
    {
      "cell_type": "code",
      "source": [
        "#turn transcript to df \n",
        "def script_to_df(script):\n",
        "  script_list = []\n",
        "  for line in script:\n",
        "    res = re.split(':', line)\n",
        "    if (res[0] != 'Editor') and (len(res) == 2):\n",
        "      script_list.append(res)\n",
        "  df = pd.DataFrame(script_list, columns = ['character', 'line'])\n",
        "  return df"
      ],
      "metadata": {
        "id": "TIWX4WdGum5g"
      },
      "execution_count": 149,
      "outputs": []
    },
    {
      "cell_type": "code",
      "source": [
        "#now put it all together \n",
        "def main(pages_links):\n",
        "  #get all links\n",
        "  all_links = []\n",
        "  for link in pages_links:\n",
        "    links = get_all_links_in_page(link)\n",
        "    all_links.append(links)\n",
        "    flat_links = [item for sublist in all_links for item in sublist]\n",
        "  full_script = []\n",
        "  #get each episode script\n",
        "  for link in flat_links[:-1]:\n",
        "    script = episode_script(link)\n",
        "    full_script.append(script)\n",
        "  flat_script = [item for sublist in full_script for item in sublist]\n",
        "    \n",
        "  df = script_to_df(flat_script)\n",
        "\n",
        "  return(df)"
      ],
      "metadata": {
        "id": "Lm51rTP0GUCj"
      },
      "execution_count": 155,
      "outputs": []
    },
    {
      "cell_type": "code",
      "source": [
        "final_df = main(pages_links)"
      ],
      "metadata": {
        "id": "md0duH6ZMDHa"
      },
      "execution_count": 156,
      "outputs": []
    },
    {
      "cell_type": "code",
      "source": [
        "#write df to csv\n",
        "final_df.to_csv('tvd_script.csv')"
      ],
      "metadata": {
        "id": "au0XOR0qXwzv"
      },
      "execution_count": 159,
      "outputs": []
    }
  ]
}