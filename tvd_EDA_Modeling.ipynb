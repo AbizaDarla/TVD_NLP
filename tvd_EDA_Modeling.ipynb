{
  "nbformat": 4,
  "nbformat_minor": 0,
  "metadata": {
    "colab": {
      "provenance": [],
      "collapsed_sections": [],
      "machine_shape": "hm"
    },
    "kernelspec": {
      "name": "python3",
      "display_name": "Python 3"
    },
    "language_info": {
      "name": "python"
    },
    "accelerator": "TPU"
  },
  "cells": [
    {
      "cell_type": "markdown",
      "source": [
        "Importing necessary libraries first"
      ],
      "metadata": {
        "id": "TGWcchtZJzUJ"
      }
    },
    {
      "cell_type": "code",
      "execution_count": 1,
      "metadata": {
        "id": "N_CRntCsWWPt"
      },
      "outputs": [],
      "source": [
        "import pandas as pd\n",
        "import string \n",
        "from collections import Counter\n",
        "import nltk\n",
        "from nltk.corpus import stopwords\n",
        "from sklearn.model_selection import train_test_split\n",
        "from sklearn.feature_extraction.text import CountVectorizer\n",
        "from sklearn import svm \n",
        "from sklearn.model_selection import GridSearchCV"
      ]
    },
    {
      "cell_type": "code",
      "source": [
        "df = pd.read_csv('./drive/MyDrive/Capstone/tvd_script.csv')"
      ],
      "metadata": {
        "id": "xs94_yNdZArI"
      },
      "execution_count": 2,
      "outputs": []
    },
    {
      "cell_type": "code",
      "source": [
        "df.drop(columns=\"Unnamed: 0\", inplace = True)"
      ],
      "metadata": {
        "id": "gbX0qfn9ZmHW"
      },
      "execution_count": 3,
      "outputs": []
    },
    {
      "cell_type": "markdown",
      "source": [
        "Basic inspection of the data"
      ],
      "metadata": {
        "id": "G2lWn8M5KDxx"
      }
    },
    {
      "cell_type": "code",
      "source": [
        "df.head()"
      ],
      "metadata": {
        "colab": {
          "base_uri": "https://localhost:8080/",
          "height": 204
        },
        "id": "-LOGiY0VZtg1",
        "outputId": "369c1328-dc36-4fe9-9298-15baef27ab17"
      },
      "execution_count": 4,
      "outputs": [
        {
          "output_type": "execute_result",
          "data": {
            "text/plain": [
              "  character                                               line\n",
              "0       MAN   For over a century, I have lived in secret; h...\n",
              "1       MAN   An hour's drive to hear that crap. You know, ...\n",
              "2      GIRL                                He wasn't that bad.\n",
              "3       MAN                       He sounded like James Blunt.\n",
              "4      GIRL                            What's wrong with that?"
            ],
            "text/html": [
              "\n",
              "  <div id=\"df-a13e9868-95d7-49c5-97ce-5cfe427e3dbe\">\n",
              "    <div class=\"colab-df-container\">\n",
              "      <div>\n",
              "<style scoped>\n",
              "    .dataframe tbody tr th:only-of-type {\n",
              "        vertical-align: middle;\n",
              "    }\n",
              "\n",
              "    .dataframe tbody tr th {\n",
              "        vertical-align: top;\n",
              "    }\n",
              "\n",
              "    .dataframe thead th {\n",
              "        text-align: right;\n",
              "    }\n",
              "</style>\n",
              "<table border=\"1\" class=\"dataframe\">\n",
              "  <thead>\n",
              "    <tr style=\"text-align: right;\">\n",
              "      <th></th>\n",
              "      <th>character</th>\n",
              "      <th>line</th>\n",
              "    </tr>\n",
              "  </thead>\n",
              "  <tbody>\n",
              "    <tr>\n",
              "      <th>0</th>\n",
              "      <td>MAN</td>\n",
              "      <td>For over a century, I have lived in secret; h...</td>\n",
              "    </tr>\n",
              "    <tr>\n",
              "      <th>1</th>\n",
              "      <td>MAN</td>\n",
              "      <td>An hour's drive to hear that crap. You know, ...</td>\n",
              "    </tr>\n",
              "    <tr>\n",
              "      <th>2</th>\n",
              "      <td>GIRL</td>\n",
              "      <td>He wasn't that bad.</td>\n",
              "    </tr>\n",
              "    <tr>\n",
              "      <th>3</th>\n",
              "      <td>MAN</td>\n",
              "      <td>He sounded like James Blunt.</td>\n",
              "    </tr>\n",
              "    <tr>\n",
              "      <th>4</th>\n",
              "      <td>GIRL</td>\n",
              "      <td>What's wrong with that?</td>\n",
              "    </tr>\n",
              "  </tbody>\n",
              "</table>\n",
              "</div>\n",
              "      <button class=\"colab-df-convert\" onclick=\"convertToInteractive('df-a13e9868-95d7-49c5-97ce-5cfe427e3dbe')\"\n",
              "              title=\"Convert this dataframe to an interactive table.\"\n",
              "              style=\"display:none;\">\n",
              "        \n",
              "  <svg xmlns=\"http://www.w3.org/2000/svg\" height=\"24px\"viewBox=\"0 0 24 24\"\n",
              "       width=\"24px\">\n",
              "    <path d=\"M0 0h24v24H0V0z\" fill=\"none\"/>\n",
              "    <path d=\"M18.56 5.44l.94 2.06.94-2.06 2.06-.94-2.06-.94-.94-2.06-.94 2.06-2.06.94zm-11 1L8.5 8.5l.94-2.06 2.06-.94-2.06-.94L8.5 2.5l-.94 2.06-2.06.94zm10 10l.94 2.06.94-2.06 2.06-.94-2.06-.94-.94-2.06-.94 2.06-2.06.94z\"/><path d=\"M17.41 7.96l-1.37-1.37c-.4-.4-.92-.59-1.43-.59-.52 0-1.04.2-1.43.59L10.3 9.45l-7.72 7.72c-.78.78-.78 2.05 0 2.83L4 21.41c.39.39.9.59 1.41.59.51 0 1.02-.2 1.41-.59l7.78-7.78 2.81-2.81c.8-.78.8-2.07 0-2.86zM5.41 20L4 18.59l7.72-7.72 1.47 1.35L5.41 20z\"/>\n",
              "  </svg>\n",
              "      </button>\n",
              "      \n",
              "  <style>\n",
              "    .colab-df-container {\n",
              "      display:flex;\n",
              "      flex-wrap:wrap;\n",
              "      gap: 12px;\n",
              "    }\n",
              "\n",
              "    .colab-df-convert {\n",
              "      background-color: #E8F0FE;\n",
              "      border: none;\n",
              "      border-radius: 50%;\n",
              "      cursor: pointer;\n",
              "      display: none;\n",
              "      fill: #1967D2;\n",
              "      height: 32px;\n",
              "      padding: 0 0 0 0;\n",
              "      width: 32px;\n",
              "    }\n",
              "\n",
              "    .colab-df-convert:hover {\n",
              "      background-color: #E2EBFA;\n",
              "      box-shadow: 0px 1px 2px rgba(60, 64, 67, 0.3), 0px 1px 3px 1px rgba(60, 64, 67, 0.15);\n",
              "      fill: #174EA6;\n",
              "    }\n",
              "\n",
              "    [theme=dark] .colab-df-convert {\n",
              "      background-color: #3B4455;\n",
              "      fill: #D2E3FC;\n",
              "    }\n",
              "\n",
              "    [theme=dark] .colab-df-convert:hover {\n",
              "      background-color: #434B5C;\n",
              "      box-shadow: 0px 1px 3px 1px rgba(0, 0, 0, 0.15);\n",
              "      filter: drop-shadow(0px 1px 2px rgba(0, 0, 0, 0.3));\n",
              "      fill: #FFFFFF;\n",
              "    }\n",
              "  </style>\n",
              "\n",
              "      <script>\n",
              "        const buttonEl =\n",
              "          document.querySelector('#df-a13e9868-95d7-49c5-97ce-5cfe427e3dbe button.colab-df-convert');\n",
              "        buttonEl.style.display =\n",
              "          google.colab.kernel.accessAllowed ? 'block' : 'none';\n",
              "\n",
              "        async function convertToInteractive(key) {\n",
              "          const element = document.querySelector('#df-a13e9868-95d7-49c5-97ce-5cfe427e3dbe');\n",
              "          const dataTable =\n",
              "            await google.colab.kernel.invokeFunction('convertToInteractive',\n",
              "                                                     [key], {});\n",
              "          if (!dataTable) return;\n",
              "\n",
              "          const docLinkHtml = 'Like what you see? Visit the ' +\n",
              "            '<a target=\"_blank\" href=https://colab.research.google.com/notebooks/data_table.ipynb>data table notebook</a>'\n",
              "            + ' to learn more about interactive tables.';\n",
              "          element.innerHTML = '';\n",
              "          dataTable['output_type'] = 'display_data';\n",
              "          await google.colab.output.renderOutput(dataTable, element);\n",
              "          const docLink = document.createElement('div');\n",
              "          docLink.innerHTML = docLinkHtml;\n",
              "          element.appendChild(docLink);\n",
              "        }\n",
              "      </script>\n",
              "    </div>\n",
              "  </div>\n",
              "  "
            ]
          },
          "metadata": {},
          "execution_count": 4
        }
      ]
    },
    {
      "cell_type": "markdown",
      "source": [
        "There are two colomuns, character and their line"
      ],
      "metadata": {
        "id": "E5H8Fj6GKJQf"
      }
    },
    {
      "cell_type": "markdown",
      "source": [
        "There are 45551 total rows/ lines."
      ],
      "metadata": {
        "id": "u_o5JDy0KPQG"
      }
    },
    {
      "cell_type": "code",
      "source": [
        "df.shape"
      ],
      "metadata": {
        "colab": {
          "base_uri": "https://localhost:8080/"
        },
        "id": "KQeLxIUWZxwv",
        "outputId": "b657008f-aee9-4377-c9a0-01f9731eed84"
      },
      "execution_count": 5,
      "outputs": [
        {
          "output_type": "execute_result",
          "data": {
            "text/plain": [
              "(45551, 2)"
            ]
          },
          "metadata": {},
          "execution_count": 5
        }
      ]
    },
    {
      "cell_type": "code",
      "source": [
        "#df['character'].unique()"
      ],
      "metadata": {
        "id": "TtMayoW9aeSA"
      },
      "execution_count": 6,
      "outputs": []
    },
    {
      "cell_type": "code",
      "source": [
        "#change charcter name to lower\n",
        "df['character'] = df['character'].str.lower()"
      ],
      "metadata": {
        "id": "duEUrZP6a5aM"
      },
      "execution_count": 7,
      "outputs": []
    },
    {
      "cell_type": "code",
      "source": [
        "df['character'] = [str(i).partition('(')[0] for i in df.character]"
      ],
      "metadata": {
        "id": "U5jcbqfJb6Rg"
      },
      "execution_count": 8,
      "outputs": []
    },
    {
      "cell_type": "code",
      "source": [
        "df['character'].nunique()"
      ],
      "metadata": {
        "colab": {
          "base_uri": "https://localhost:8080/"
        },
        "id": "91tM9Rde1Y4L",
        "outputId": "00befab8-e00f-4aac-e81c-8a5445bcfbf0"
      },
      "execution_count": 9,
      "outputs": [
        {
          "output_type": "execute_result",
          "data": {
            "text/plain": [
              "577"
            ]
          },
          "metadata": {},
          "execution_count": 9
        }
      ]
    },
    {
      "cell_type": "markdown",
      "source": [
        "Removing characters with less than 30 lines."
      ],
      "metadata": {
        "id": "sY1BOZPTKy1m"
      }
    },
    {
      "cell_type": "code",
      "source": [
        "v = df.character.value_counts()\n",
        "df = df[df.character.isin(v.index[v.gt(30)])]"
      ],
      "metadata": {
        "id": "jgWEgL0539pS"
      },
      "execution_count": 10,
      "outputs": []
    },
    {
      "cell_type": "code",
      "source": [
        "df['character'].nunique()"
      ],
      "metadata": {
        "colab": {
          "base_uri": "https://localhost:8080/"
        },
        "id": "Pg5ZZd3i3_O6",
        "outputId": "5e5aab2f-10ef-4d87-f79c-3182fb9df183"
      },
      "execution_count": 11,
      "outputs": [
        {
          "output_type": "execute_result",
          "data": {
            "text/plain": [
              "98"
            ]
          },
          "metadata": {},
          "execution_count": 11
        }
      ]
    },
    {
      "cell_type": "code",
      "source": [
        "df['character'].unique()"
      ],
      "metadata": {
        "colab": {
          "base_uri": "https://localhost:8080/"
        },
        "id": "HOnIqghR77MB",
        "outputId": "a0848cb7-a917-45c2-8f0a-b1b42359f5f3"
      },
      "execution_count": 12,
      "outputs": [
        {
          "output_type": "execute_result",
          "data": {
            "text/plain": [
              "array(['man', 'girl', 'stefan', 'elena', 'jenna', 'jeremy', 'bonnie',\n",
              "       'caroline', 'elena ', 'tyler', 'vicki', 'matt', 'stefan ', 'zach',\n",
              "       'tanner', 'damon', 'logan', 'sheriff forbes', 'grams', 'katherine',\n",
              "       'sheriff', 'vicky', 'woman', 'lexi', 'damon ', 'bonnie ', 'alaric',\n",
              "       'anna', 'ben', 'pearl', 'giuseppe', 'kelly', 'isobel', 'carol',\n",
              "       'frederick', 'trevor', 'john', '', 'katherine/elena', 'mason',\n",
              "       'aimee', 'liz', 'sarah', 'lucy', 'rose', 'elijah', 'luka', 'jonas',\n",
              "       'jules', 'brady', 'andie', 'klaus/alaric', 'alaric/klaus', 'klaus',\n",
              "       'bill', 'gloria', 'rebekah', 'mikael', 'sheila', 'esther',\n",
              "       'meredith', 'abby', 'jamie', 'kol', 'finn', 'sage', 'connor',\n",
              "       'april', 'haley', 'shane', 'rudy', 'vaughn', 'silas', 'marcel',\n",
              "       'jesse', 'nadia', '1.', 'tessa', 'jo', 'dr. maxfield', 'aaron',\n",
              "       'amara', 'wes', 'enzo', 'sloan', 'liv', 'luke', 'markos', 'julian',\n",
              "       'tripp', 'ivy', 'liam', 'kai', 'joshua', 'lily', 'nora', 'valerie',\n",
              "       'sybil'], dtype=object)"
            ]
          },
          "metadata": {},
          "execution_count": 12
        }
      ]
    },
    {
      "cell_type": "code",
      "source": [
        "#Who has the most lines in the show --- Damon, Elena, Stefan, Caroline, Bonnie\n",
        "df['character'].value_counts()"
      ],
      "metadata": {
        "colab": {
          "base_uri": "https://localhost:8080/"
        },
        "id": "sDj25EOQ8Obb",
        "outputId": "d2b3a724-ea07-48f1-c280-1faadfc51a6d"
      },
      "execution_count": 13,
      "outputs": [
        {
          "output_type": "execute_result",
          "data": {
            "text/plain": [
              "damon       6737\n",
              "elena       6710\n",
              "stefan      5385\n",
              "caroline    3311\n",
              "bonnie      2284\n",
              "            ... \n",
              "finn          33\n",
              "jesse         32\n",
              "amara         31\n",
              "nora          31\n",
              "brady         31\n",
              "Name: character, Length: 98, dtype: int64"
            ]
          },
          "metadata": {},
          "execution_count": 13
        }
      ]
    },
    {
      "cell_type": "markdown",
      "source": [
        "As we can see below, the characters with the most lines are Damon, Elena, Stefan, Caroline, Bonnie, Jeremet, Matt, Alaric, Katherine, and Tyler. This is interesting considering elena's character was dead seasons 6-8 (and is resurrected only to aapear in the last episode of the show). But Stefan, Caroline, and Bonnie appeared all 8 season (mostly). "
      ],
      "metadata": {
        "id": "VVLwHfpILJva"
      }
    },
    {
      "cell_type": "code",
      "source": [
        "df.character.value_counts().sort_values(ascending = False).head(10).plot(kind = 'bar', \n",
        "                                                        xlabel='Character', \n",
        "                                                        ylabel='Number of Lines',\n",
        "                                                        title = \"Main Characters and their Number of Lines\",\n",
        "                                                        );"
      ],
      "metadata": {
        "id": "dOK9B1-4GSKt",
        "colab": {
          "base_uri": "https://localhost:8080/",
          "height": 333
        },
        "outputId": "125ab5b4-0d36-4304-bf71-8439df0e980a"
      },
      "execution_count": 14,
      "outputs": [
        {
          "output_type": "display_data",
          "data": {
            "text/plain": [
              "<Figure size 432x288 with 1 Axes>"
            ],
            "image/png": "[encoded data removed]"
          },
          "metadata": {
            "needs_background": "light"
          }
        }
      ]
    },
    {
      "cell_type": "code",
      "source": [
        "#removing new line characters\n",
        "df['line'] = [str(text).replace('\\n', ' ') for text in df.line]"
      ],
      "metadata": {
        "id": "HW31F54jjULx"
      },
      "execution_count": 15,
      "outputs": []
    },
    {
      "cell_type": "code",
      "source": [
        "def remove_punc(line): \n",
        "  punctuations = '''!()-[]{};:'\"\\,<>./?@#$%^&*_~'''\n",
        "  no_punc = \"\"\n",
        "  for char in line:\n",
        "    if char not in punctuations:\n",
        "       no_punc = no_punc + char\n",
        "  return no_punc"
      ],
      "metadata": {
        "id": "Vh6tXgjjswzN"
      },
      "execution_count": 16,
      "outputs": []
    },
    {
      "cell_type": "code",
      "source": [
        "#remove punctuation\n",
        "df['line'] = [remove_punc(str(text)) for text in df.line]"
      ],
      "metadata": {
        "id": "dIOanadZkIFa"
      },
      "execution_count": 17,
      "outputs": []
    },
    {
      "cell_type": "code",
      "source": [
        "#lower case text\n",
        "df['line'] = [text.lower() for text in df.line]"
      ],
      "metadata": {
        "id": "1KgjZsBMqpcu"
      },
      "execution_count": 18,
      "outputs": []
    },
    {
      "cell_type": "code",
      "source": [
        "list_of_lines = df['line'].to_list()\n",
        "corpus = ''\n",
        "\n",
        "for line in list_of_lines:\n",
        "  corpus += line"
      ],
      "metadata": {
        "id": "wA_LBKWZt6IX"
      },
      "execution_count": 19,
      "outputs": []
    },
    {
      "cell_type": "code",
      "source": [
        "words = corpus.split()"
      ],
      "metadata": {
        "id": "w7OkjNd8wP6-"
      },
      "execution_count": 20,
      "outputs": []
    },
    {
      "cell_type": "code",
      "source": [
        "damon_df = df[df['character'] == 'damon']\n",
        "list_of_damon_lines = damon_df['line'].to_list()\n",
        "damon_corpus = ''\n",
        "\n",
        "for line in list_of_damon_lines:\n",
        "  damon_corpus += line\n",
        "\n",
        "damon_words = damon_corpus.split()"
      ],
      "metadata": {
        "id": "Y522OIA1Rk4X"
      },
      "execution_count": 21,
      "outputs": []
    },
    {
      "cell_type": "code",
      "source": [
        "elena_df = df[df['character'] == 'elena']\n",
        "list_of_elena_lines = elena_df['line'].to_list()\n",
        "elena_corpus = ''\n",
        "\n",
        "for line in list_of_elena_lines:\n",
        "  elena_corpus += line\n",
        "\n",
        "elena_words = elena_corpus.split()"
      ],
      "metadata": {
        "id": "rLQn2708TQBD"
      },
      "execution_count": 22,
      "outputs": []
    },
    {
      "cell_type": "code",
      "source": [
        "stefan_df = df[df['character'] == 'stefan']\n",
        "list_of_stefan_lines = stefan_df['line'].to_list()\n",
        "stefan_corpus = ''\n",
        "\n",
        "for line in list_of_stefan_lines:\n",
        "  stefan_corpus += line\n",
        "\n",
        "stefan_words = stefan_corpus.split()"
      ],
      "metadata": {
        "id": "xi-qtOSQTiCI"
      },
      "execution_count": 23,
      "outputs": []
    },
    {
      "cell_type": "code",
      "source": [
        "caroline_df = df[df['character'] == 'caroline']\n",
        "list_of_caroline_lines = caroline_df['line'].to_list()\n",
        "caroline_corpus = ''\n",
        "\n",
        "for line in list_of_caroline_lines:\n",
        "  caroline_corpus += line\n",
        "\n",
        "caroline_words = caroline_corpus.split()"
      ],
      "metadata": {
        "id": "rHzceARmTr4W"
      },
      "execution_count": 24,
      "outputs": []
    },
    {
      "cell_type": "code",
      "source": [
        "bonnie_df = df[df['character'] == 'bonnie']\n",
        "list_of_bonnie_lines = bonnie_df['line'].to_list()\n",
        "bonnie_corpus = ''\n",
        "\n",
        "for line in list_of_bonnie_lines:\n",
        "  bonnie_corpus += line\n",
        "\n",
        "bonnie_words = bonnie_corpus.split()"
      ],
      "metadata": {
        "id": "YqfQzcPRUBy5"
      },
      "execution_count": 25,
      "outputs": []
    },
    {
      "cell_type": "code",
      "source": [
        "c = Counter(words)        \n",
        "c.most_common(15)"
      ],
      "metadata": {
        "colab": {
          "base_uri": "https://localhost:8080/"
        },
        "id": "fY8hdRJovAeB",
        "outputId": "78cf9925-3dc9-4d52-a85e-e6f1bad28c7f"
      },
      "execution_count": 26,
      "outputs": [
        {
          "output_type": "execute_result",
          "data": {
            "text/plain": [
              "[('you', 21688),\n",
              " ('i', 17904),\n",
              " ('to', 14765),\n",
              " ('the', 12606),\n",
              " ('a', 8895),\n",
              " ('and', 7455),\n",
              " ('that', 6873),\n",
              " ('it', 6633),\n",
              " ('me', 6510),\n",
              " ('of', 5546),\n",
              " ('what', 4976),\n",
              " ('is', 4791),\n",
              " ('im', 4542),\n",
              " ('in', 4155),\n",
              " ('this', 3913)]"
            ]
          },
          "metadata": {},
          "execution_count": 26
        }
      ]
    },
    {
      "cell_type": "markdown",
      "source": [
        "We can see here that the most commonly occuring words here don't really tell us anaythig as they are common english words, so, I'll remove stop words and then find the most common words. "
      ],
      "metadata": {
        "id": "i4Em9GTQNkAe"
      }
    },
    {
      "cell_type": "code",
      "source": [
        "nltk.download('stopwords')"
      ],
      "metadata": {
        "colab": {
          "base_uri": "https://localhost:8080/"
        },
        "id": "WY8wTx6fyKOi",
        "outputId": "a07f74c5-d9f4-4401-edb1-c91396210c93"
      },
      "execution_count": 27,
      "outputs": [
        {
          "output_type": "stream",
          "name": "stderr",
          "text": [
            "[nltk_data] Downloading package stopwords to /root/nltk_data...\n",
            "[nltk_data]   Package stopwords is already up-to-date!\n"
          ]
        },
        {
          "output_type": "execute_result",
          "data": {
            "text/plain": [
              "True"
            ]
          },
          "metadata": {},
          "execution_count": 27
        }
      ]
    },
    {
      "cell_type": "code",
      "source": [
        "#remove stop words\n",
        "clean_words = [word for word in words if word.lower() not in stopwords.words('english')]\n",
        "clean_text = ' '.join(clean_words)"
      ],
      "metadata": {
        "id": "yI1S5dIDvkfs"
      },
      "execution_count": 28,
      "outputs": []
    },
    {
      "cell_type": "code",
      "source": [
        "damon_clean_words = [word for word in damon_words if word.lower() not in stopwords.words('english')]\n",
        "damon_clean_text = ' '.join(damon_clean_words)\n",
        "\n",
        "elena_clean_words = [word for word in elena_words if word.lower() not in stopwords.words('english')]\n",
        "elena_clean_text = ' '.join(elena_clean_words)\n",
        "\n",
        "stefan_clean_words = [word for word in stefan_words if word.lower() not in stopwords.words('english')]\n",
        "stefan_clean_text = ' '.join(stefan_clean_words)\n",
        "\n",
        "caroline_clean_words = [word for word in caroline_words if word.lower() not in stopwords.words('english')]\n",
        "caroline_clean_text = ' '.join(caroline_clean_words)\n",
        "\n",
        "bonnie_clean_words = [word for word in bonnie_words if word.lower() not in stopwords.words('english')]\n",
        "bonnie_clean_text = ' '.join(bonnie_clean_words)"
      ],
      "metadata": {
        "id": "6AA1gFsOUXFp"
      },
      "execution_count": 29,
      "outputs": []
    },
    {
      "cell_type": "code",
      "source": [
        "c = Counter(clean_words)        \n",
        "c.most_common(20)"
      ],
      "metadata": {
        "colab": {
          "base_uri": "https://localhost:8080/"
        },
        "id": "0uRwXXGBxwrH",
        "outputId": "bc13d6a4-6da0-472f-84f8-a32d37cdcfdb"
      },
      "execution_count": 30,
      "outputs": [
        {
          "output_type": "execute_result",
          "data": {
            "text/plain": [
              "[('im', 4542),\n",
              " ('know', 3831),\n",
              " ('dont', 3502),\n",
              " ('youre', 2791),\n",
              " ('get', 2298),\n",
              " ('want', 2017),\n",
              " ('well', 1910),\n",
              " ('elena', 1851),\n",
              " ('like', 1764),\n",
              " ('kll', 1720),\n",
              " ('damon', 1660),\n",
              " ('stefan', 1632),\n",
              " ('right', 1629),\n",
              " ('one', 1581),\n",
              " ('think', 1511),\n",
              " ('gonna', 1507),\n",
              " ('yeah', 1499),\n",
              " ('go', 1492),\n",
              " ('back', 1452),\n",
              " ('going', 1421)]"
            ]
          },
          "metadata": {},
          "execution_count": 30
        }
      ]
    },
    {
      "cell_type": "code",
      "source": [
        "damon_c = Counter(damon_clean_words)        \n",
        "damon_c.most_common(20)"
      ],
      "metadata": {
        "colab": {
          "base_uri": "https://localhost:8080/"
        },
        "id": "h5-MM0xSVX5C",
        "outputId": "48daa2d9-6ece-49ae-896b-fc404b28b4cc"
      },
      "execution_count": 31,
      "outputs": [
        {
          "output_type": "execute_result",
          "data": {
            "text/plain": [
              "[('know', 587),\n",
              " ('im', 584),\n",
              " ('dont', 535),\n",
              " ('youre', 481),\n",
              " ('well', 449),\n",
              " ('get', 439),\n",
              " ('elena', 424),\n",
              " ('stefan', 373),\n",
              " ('gonna', 329),\n",
              " ('want', 320),\n",
              " ('kll', 311),\n",
              " ('one', 282),\n",
              " ('back', 262),\n",
              " ('like', 251),\n",
              " ('go', 241),\n",
              " ('think', 230),\n",
              " ('right', 229),\n",
              " ('come', 226),\n",
              " ('little', 224),\n",
              " ('yeah', 220)]"
            ]
          },
          "metadata": {},
          "execution_count": 31
        }
      ]
    },
    {
      "cell_type": "code",
      "source": [
        "elena_c = Counter(elena_clean_words)        \n",
        "elena_c.most_common(20)"
      ],
      "metadata": {
        "colab": {
          "base_uri": "https://localhost:8080/"
        },
        "id": "vbKK95R0ViMl",
        "outputId": "5148395e-1383-409e-8f1f-4aea75e1bdc9"
      },
      "execution_count": 32,
      "outputs": [
        {
          "output_type": "execute_result",
          "data": {
            "text/plain": [
              "[('im', 739),\n",
              " ('know', 583),\n",
              " ('dont', 545),\n",
              " ('stefan', 531),\n",
              " ('damon', 477),\n",
              " ('youre', 411),\n",
              " ('get', 293),\n",
              " ('gonna', 277),\n",
              " ('want', 275),\n",
              " ('cant', 274),\n",
              " ('going', 269),\n",
              " ('ok', 267),\n",
              " ('like', 249),\n",
              " ('kll', 230),\n",
              " ('go', 229),\n",
              " ('back', 222),\n",
              " ('bonnie', 218),\n",
              " ('think', 218),\n",
              " ('right', 214),\n",
              " ('need', 205)]"
            ]
          },
          "metadata": {},
          "execution_count": 32
        }
      ]
    },
    {
      "cell_type": "code",
      "source": [
        "stefan_c = Counter(stefan_clean_words)        \n",
        "stefan_c.most_common(20)"
      ],
      "metadata": {
        "colab": {
          "base_uri": "https://localhost:8080/"
        },
        "id": "YFngwbJ9VotQ",
        "outputId": "365af33e-3b24-458f-9b50-50a84af81d16"
      },
      "execution_count": 33,
      "outputs": [
        {
          "output_type": "execute_result",
          "data": {
            "text/plain": [
              "[('know', 537),\n",
              " ('im', 517),\n",
              " ('dont', 433),\n",
              " ('elena', 396),\n",
              " ('damon', 356),\n",
              " ('youre', 331),\n",
              " ('right', 323),\n",
              " ('get', 313),\n",
              " ('well', 279),\n",
              " ('want', 260),\n",
              " ('yeah', 224),\n",
              " ('kll', 220),\n",
              " ('go', 210),\n",
              " ('gonna', 203),\n",
              " ('hey', 202),\n",
              " ('think', 199),\n",
              " ('need', 179),\n",
              " ('back', 178),\n",
              " ('thats', 174),\n",
              " ('one', 171)]"
            ]
          },
          "metadata": {},
          "execution_count": 33
        }
      ]
    },
    {
      "cell_type": "code",
      "source": [
        "caroline_c = Counter(caroline_clean_words)        \n",
        "caroline_c.most_common(20)"
      ],
      "metadata": {
        "colab": {
          "base_uri": "https://localhost:8080/"
        },
        "id": "9l8lYbfVVyMi",
        "outputId": "ee115327-aec0-41d7-f468-3f57b09c5491"
      },
      "execution_count": 34,
      "outputs": [
        {
          "output_type": "execute_result",
          "data": {
            "text/plain": [
              "[('im', 397),\n",
              " ('know', 317),\n",
              " ('dont', 288),\n",
              " ('youre', 235),\n",
              " ('elena', 185),\n",
              " ('stefan', 177),\n",
              " ('well', 177),\n",
              " ('get', 172),\n",
              " ('ok', 160),\n",
              " ('oh', 155),\n",
              " ('want', 149),\n",
              " ('yeah', 146),\n",
              " ('like', 146),\n",
              " ('going', 146),\n",
              " ('tyler', 145),\n",
              " ('think', 134),\n",
              " ('go', 131),\n",
              " ('hey', 115),\n",
              " ('gonna', 111),\n",
              " ('mom', 111)]"
            ]
          },
          "metadata": {},
          "execution_count": 34
        }
      ]
    },
    {
      "cell_type": "code",
      "source": [
        "bonnie_c = Counter(bonnie_clean_words)        \n",
        "bonnie_c.most_common(20)"
      ],
      "metadata": {
        "colab": {
          "base_uri": "https://localhost:8080/"
        },
        "id": "OoAkxzmiV8BH",
        "outputId": "7d3da2b9-3ec1-4356-fcdd-a5ff1d5948a9"
      },
      "execution_count": 35,
      "outputs": [
        {
          "output_type": "execute_result",
          "data": {
            "text/plain": [
              "[('im', 244),\n",
              " ('know', 204),\n",
              " ('dont', 202),\n",
              " ('get', 115),\n",
              " ('youre', 114),\n",
              " ('back', 110),\n",
              " ('cant', 109),\n",
              " ('want', 102),\n",
              " ('elena', 98),\n",
              " ('spell', 92),\n",
              " ('jeremy', 82),\n",
              " ('go', 79),\n",
              " ('damon', 79),\n",
              " ('like', 77),\n",
              " ('think', 77),\n",
              " ('need', 75),\n",
              " ('ok', 72),\n",
              " ('right', 68),\n",
              " ('yeah', 68),\n",
              " ('kll', 68)]"
            ]
          },
          "metadata": {},
          "execution_count": 35
        }
      ]
    },
    {
      "cell_type": "markdown",
      "source": [
        "These are more telling. I'm not surprised that \"elena\" \"kill\" \"damon\" and \"stefan\" are one of the most commonly occuring words"
      ],
      "metadata": {
        "id": "p3JxQSMCN9M8"
      }
    },
    {
      "cell_type": "code",
      "source": [
        "frequency_dist = nltk.FreqDist(clean_words)\n",
        "word_dict = sorted(((count, word) for (word,count) in frequency_dist.items()))#, reverse=True)\n",
        "counts, word = zip(*word_dict) # unpack a list of pairs into two tuples\n",
        "import matplotlib.pyplot as plt\n",
        "num_to_show = 40\n",
        "plt.figure(figsize=[6,10])\n",
        "plt.plot(counts[-num_to_show:], word[-num_to_show:],lw=6,c='r')\n",
        "plt.ylabel('Word',fontsize=20)\n",
        "plt.yticks(fontsize=14)\n",
        "plt.title(\"Most Common Words in The Vampier Diaries\")\n",
        "plt.xlabel('Num Times Used',fontsize=20)\n",
        "plt.xticks(fontsize=14)\n",
        "plt.show()"
      ],
      "metadata": {
        "colab": {
          "base_uri": "https://localhost:8080/",
          "height": 634
        },
        "id": "VuBp-u8qyX8s",
        "outputId": "be6a32e4-fa0d-403c-fa10-8e0238ba6385"
      },
      "execution_count": 36,
      "outputs": [
        {
          "output_type": "display_data",
          "data": {
            "text/plain": [
              "<Figure size 432x720 with 1 Axes>"
            ],
            "image/png": "[encoded data removed]"
          },
          "metadata": {
            "needs_background": "light"
          }
        }
      ]
    },
    {
      "cell_type": "code",
      "source": [
        "frequency_dist = nltk.FreqDist(damon_clean_words)\n",
        "word_dict = sorted(((count, word) for (word,count) in frequency_dist.items()))#, reverse=True)\n",
        "counts, word = zip(*word_dict) # unpack a list of pairs into two tuples\n",
        "import matplotlib.pyplot as plt\n",
        "num_to_show = 40\n",
        "plt.figure(figsize=[6,10])\n",
        "plt.plot(counts[-num_to_show:], word[-num_to_show:],lw=6,c='r')\n",
        "plt.ylabel('Word',fontsize=20)\n",
        "plt.yticks(fontsize=14)\n",
        "plt.title(\"Most Common Words by Damon in The Vampier Diaries\")\n",
        "plt.xlabel('Num Times Used',fontsize=20)\n",
        "plt.xticks(fontsize=14)\n",
        "plt.show()"
      ],
      "metadata": {
        "colab": {
          "base_uri": "https://localhost:8080/",
          "height": 634
        },
        "id": "JSsiKETdWHmA",
        "outputId": "9cc72d83-fa57-4ac2-d32a-21f9089df9bf"
      },
      "execution_count": 37,
      "outputs": [
        {
          "output_type": "display_data",
          "data": {
            "text/plain": [
              "<Figure size 432x720 with 1 Axes>"
            ],
            "image/png": "[encoded data removed]"
          },
          "metadata": {
            "needs_background": "light"
          }
        }
      ]
    },
    {
      "cell_type": "code",
      "source": [
        "frequency_dist = nltk.FreqDist(elena_clean_words)\n",
        "word_dict = sorted(((count, word) for (word,count) in frequency_dist.items()))#, reverse=True)\n",
        "counts, word = zip(*word_dict) # unpack a list of pairs into two tuples\n",
        "import matplotlib.pyplot as plt\n",
        "num_to_show = 40\n",
        "plt.figure(figsize=[6,10])\n",
        "plt.plot(counts[-num_to_show:], word[-num_to_show:],lw=6,c='r')\n",
        "plt.ylabel('Word',fontsize=20)\n",
        "plt.yticks(fontsize=14)\n",
        "plt.title(\"Most Common Words by Elena in The Vampier Diaries\")\n",
        "plt.xlabel('Num Times Used',fontsize=20)\n",
        "plt.xticks(fontsize=14)\n",
        "plt.show()"
      ],
      "metadata": {
        "colab": {
          "base_uri": "https://localhost:8080/",
          "height": 634
        },
        "id": "wg7bZ6QeWcsU",
        "outputId": "a24cab9d-2161-49f9-f1b6-dfd512afe861"
      },
      "execution_count": 38,
      "outputs": [
        {
          "output_type": "display_data",
          "data": {
            "text/plain": [
              "<Figure size 432x720 with 1 Axes>"
            ],
            "image/png": "[encoded data removed]"
          },
          "metadata": {
            "needs_background": "light"
          }
        }
      ]
    },
    {
      "cell_type": "code",
      "source": [
        "frequency_dist = nltk.FreqDist(stefan_clean_words)\n",
        "word_dict = sorted(((count, word) for (word,count) in frequency_dist.items()))#, reverse=True)\n",
        "counts, word = zip(*word_dict) # unpack a list of pairs into two tuples\n",
        "import matplotlib.pyplot as plt\n",
        "num_to_show = 40\n",
        "plt.figure(figsize=[6,10])\n",
        "plt.plot(counts[-num_to_show:], word[-num_to_show:],lw=6,c='r')\n",
        "plt.ylabel('Word',fontsize=20)\n",
        "plt.yticks(fontsize=14)\n",
        "plt.title(\"Most Common Words by Stefan in The Vampier Diaries\")\n",
        "plt.xlabel('Num Times Used',fontsize=20)\n",
        "plt.xticks(fontsize=14)\n",
        "plt.show()"
      ],
      "metadata": {
        "colab": {
          "base_uri": "https://localhost:8080/",
          "height": 634
        },
        "id": "Y-S6VTFLWkYQ",
        "outputId": "b5506909-7a94-4932-a213-05790af2205e"
      },
      "execution_count": 39,
      "outputs": [
        {
          "output_type": "display_data",
          "data": {
            "text/plain": [
              "<Figure size 432x720 with 1 Axes>"
            ],
            "image/png": "[encoded data removed]"
          },
          "metadata": {
            "needs_background": "light"
          }
        }
      ]
    },
    {
      "cell_type": "code",
      "source": [
        "frequency_dist = nltk.FreqDist(caroline_clean_words)\n",
        "word_dict = sorted(((count, word) for (word,count) in frequency_dist.items()))#, reverse=True)\n",
        "counts, word = zip(*word_dict) # unpack a list of pairs into two tuples\n",
        "import matplotlib.pyplot as plt\n",
        "num_to_show = 40\n",
        "plt.figure(figsize=[6,10])\n",
        "plt.plot(counts[-num_to_show:], word[-num_to_show:],lw=6,c='r')\n",
        "plt.ylabel('Word',fontsize=20)\n",
        "plt.yticks(fontsize=14)\n",
        "plt.title(\"Most Common Words by Caroline in The Vampier Diaries\")\n",
        "plt.xlabel('Num Times Used',fontsize=20)\n",
        "plt.xticks(fontsize=14)\n",
        "plt.show()"
      ],
      "metadata": {
        "colab": {
          "base_uri": "https://localhost:8080/",
          "height": 634
        },
        "id": "AyiPqVrBWxd-",
        "outputId": "dd103156-1b6a-4509-ca7c-4a3c0926b6ac"
      },
      "execution_count": 40,
      "outputs": [
        {
          "output_type": "display_data",
          "data": {
            "text/plain": [
              "<Figure size 432x720 with 1 Axes>"
            ],
            "image/png": "[encoded data removed]"
          },
          "metadata": {
            "needs_background": "light"
          }
        }
      ]
    },
    {
      "cell_type": "code",
      "source": [
        "frequency_dist = nltk.FreqDist(bonnie_clean_words)\n",
        "word_dict = sorted(((count, word) for (word,count) in frequency_dist.items()))#, reverse=True)\n",
        "counts, word = zip(*word_dict) # unpack a list of pairs into two tuples\n",
        "import matplotlib.pyplot as plt\n",
        "num_to_show = 40\n",
        "plt.figure(figsize=[6,10])\n",
        "plt.plot(counts[-num_to_show:], word[-num_to_show:],lw=6,c='r')\n",
        "plt.ylabel('Word',fontsize=20)\n",
        "plt.yticks(fontsize=14)\n",
        "plt.title(\"Most Common Words by Bonnie in The Vampier Diaries\")\n",
        "plt.xlabel('Num Times Used',fontsize=20)\n",
        "plt.xticks(fontsize=14)\n",
        "plt.show()"
      ],
      "metadata": {
        "colab": {
          "base_uri": "https://localhost:8080/",
          "height": 634
        },
        "id": "RXOICCKUW6NF",
        "outputId": "ba968103-f1ef-4c4c-c1cf-36d0f5f2c560"
      },
      "execution_count": 41,
      "outputs": [
        {
          "output_type": "display_data",
          "data": {
            "text/plain": [
              "<Figure size 432x720 with 1 Axes>"
            ],
            "image/png": "[encoded data removed]"
          },
          "metadata": {
            "needs_background": "light"
          }
        }
      ]
    },
    {
      "cell_type": "code",
      "source": [
        "from nltk.collocations import BigramCollocationFinder \n",
        "from nltk.metrics import BigramAssocMeasures\n",
        "bigram_collocation = BigramCollocationFinder.from_words(clean_words) \n",
        "bigram_collocation.apply_freq_filter(3) \n",
        "bigram_collocation.nbest(BigramAssocMeasures.likelihood_ratio, 20)\n",
        "bigram_collocation.score_ngrams(BigramAssocMeasures.likelihood_ratio)[:20]"
      ],
      "metadata": {
        "colab": {
          "base_uri": "https://localhost:8080/"
        },
        "id": "DKjeiN_30M6W",
        "outputId": "8f8d0759-797a-49d4-f6a0-eeeefe7db177"
      },
      "execution_count": 42,
      "outputs": [
        {
          "output_type": "execute_result",
          "data": {
            "text/plain": [
              "[(('mystic', 'falls'), 3320.039741355297),\n",
              " (('im', 'sorry'), 3227.7147876183617),\n",
              " (('oh', 'god'), 2663.5570663904487),\n",
              " (('dont', 'know'), 2091.1122998653773),\n",
              " (('im', 'gonna'), 1684.239463439751),\n",
              " (('dont', 'want'), 1398.6970533500034),\n",
              " (('last', 'night'), 919.0474936216558),\n",
              " (('whats', 'going'), 915.48535232028),\n",
              " (('sire', 'bond'), 898.2857070088501),\n",
              " (('youre', 'gonna'), 831.4999289397144),\n",
              " (('full', 'moon'), 812.0409769469545),\n",
              " (('let', 'go'), 806.501557198879),\n",
              " (('best', 'friend'), 688.2655683761612),\n",
              " (('im', 'going'), 677.3604768250045),\n",
              " (('little', 'bit'), 676.0663956194103),\n",
              " (('hey', 'hey'), 669.5093215969298),\n",
              " (('high', 'school'), 653.1151126019773),\n",
              " (('youre', 'going'), 623.7653084151568),\n",
              " (('ha', 'ha'), 608.3948806605607),\n",
              " (('make', 'sure'), 605.6927848118356)]"
            ]
          },
          "metadata": {},
          "execution_count": 42
        }
      ]
    },
    {
      "cell_type": "markdown",
      "source": [
        "The show is set in \"Mystic Falls\", \"I'm sorry\", and \"oh god\" are the most common bigrams in the show."
      ],
      "metadata": {
        "id": "jUxI5hT6PiuC"
      }
    },
    {
      "cell_type": "markdown",
      "source": [
        "# Modeling - Who Said It?"
      ],
      "metadata": {
        "id": "qxDSZfVKXPx0"
      }
    },
    {
      "cell_type": "markdown",
      "source": [
        "## SVM"
      ],
      "metadata": {
        "id": "Y2Ityh5-ZK37"
      }
    },
    {
      "cell_type": "code",
      "source": [
        "df.columns"
      ],
      "metadata": {
        "colab": {
          "base_uri": "https://localhost:8080/"
        },
        "id": "5gi01o86EW80",
        "outputId": "f45fc48b-092b-43fb-b575-5e40f6e48150"
      },
      "execution_count": 43,
      "outputs": [
        {
          "output_type": "execute_result",
          "data": {
            "text/plain": [
              "Index(['character', 'line'], dtype='object')"
            ]
          },
          "metadata": {},
          "execution_count": 43
        }
      ]
    },
    {
      "cell_type": "code",
      "source": [
        "#only using main chars\n",
        "\n",
        "mains = ['damon', 'elena', 'stefan', 'caroline', 'bonnie']\n",
        "\n",
        "df = df.loc[df['character'].isin(mains)]"
      ],
      "metadata": {
        "id": "GoET7YoPD8LC"
      },
      "execution_count": 44,
      "outputs": []
    },
    {
      "cell_type": "code",
      "source": [
        "z = df['line']\n",
        "y = df[\"character\"]\n",
        "z_train, z_test,y_train, y_test = train_test_split(z,y,test_size = 0.3)"
      ],
      "metadata": {
        "id": "xksLBEuoXRzJ"
      },
      "execution_count": 45,
      "outputs": []
    },
    {
      "cell_type": "code",
      "source": [
        "cv = CountVectorizer()\n",
        "features = cv.fit_transform(z_train)"
      ],
      "metadata": {
        "id": "e5DLq8-tY98X"
      },
      "execution_count": 46,
      "outputs": []
    },
    {
      "cell_type": "code",
      "source": [
        "model = svm.SVC()\n",
        "model.fit(features,y_train)"
      ],
      "metadata": {
        "colab": {
          "base_uri": "https://localhost:8080/"
        },
        "id": "FNAXYw7TZBNt",
        "outputId": "9bbacae4-7876-411b-db8b-91d3ecf9a905"
      },
      "execution_count": 47,
      "outputs": [
        {
          "output_type": "execute_result",
          "data": {
            "text/plain": [
              "SVC()"
            ]
          },
          "metadata": {},
          "execution_count": 47
        }
      ]
    },
    {
      "cell_type": "code",
      "source": [
        "features_test = cv.transform(z_test)\n",
        "print(\"Accuracy: {}\".format(model.score(features_test,y_test)))"
      ],
      "metadata": {
        "colab": {
          "base_uri": "https://localhost:8080/"
        },
        "id": "QLyshMBEZFfY",
        "outputId": "3419226f-15c9-44c4-c3b1-e1c596be88c1"
      },
      "execution_count": 48,
      "outputs": [
        {
          "output_type": "stream",
          "name": "stdout",
          "text": [
            "Accuracy: 0.38122526947741847\n"
          ]
        }
      ]
    },
    {
      "cell_type": "code",
      "source": [
        "param_grid = {'C': [0.1], \n",
        "              'gamma': [1],\n",
        "              'kernel': ['linear']} \n",
        "  \n",
        "grid = GridSearchCV(svm.SVC(), param_grid, refit = True, verbose = 3)\n",
        "  \n",
        "# fitting the model for grid search\n",
        "grid.fit(features, y_train)"
      ],
      "metadata": {
        "colab": {
          "base_uri": "https://localhost:8080/"
        },
        "id": "8QHy9_SjDywq",
        "outputId": "7661edf5-a1f7-4538-d56a-b7ac26754aa6"
      },
      "execution_count": 49,
      "outputs": [
        {
          "output_type": "stream",
          "name": "stdout",
          "text": [
            "Fitting 5 folds for each of 1 candidates, totalling 5 fits\n",
            "[CV 1/5] END .....C=0.1, gamma=1, kernel=linear;, score=0.386 total time=  33.7s\n",
            "[CV 2/5] END .....C=0.1, gamma=1, kernel=linear;, score=0.386 total time=  33.7s\n",
            "[CV 3/5] END .....C=0.1, gamma=1, kernel=linear;, score=0.387 total time=  33.7s\n",
            "[CV 4/5] END .....C=0.1, gamma=1, kernel=linear;, score=0.388 total time=  33.8s\n",
            "[CV 5/5] END .....C=0.1, gamma=1, kernel=linear;, score=0.383 total time=  33.7s\n"
          ]
        },
        {
          "output_type": "execute_result",
          "data": {
            "text/plain": [
              "GridSearchCV(estimator=SVC(),\n",
              "             param_grid={'C': [0.1], 'gamma': [1], 'kernel': ['linear']},\n",
              "             verbose=3)"
            ]
          },
          "metadata": {},
          "execution_count": 49
        }
      ]
    },
    {
      "cell_type": "code",
      "source": [
        "model.support_vectors_.todense()"
      ],
      "metadata": {
        "colab": {
          "base_uri": "https://localhost:8080/"
        },
        "id": "cZZ-EgypGbbB",
        "outputId": "bc915e50-57f3-4871-fa9d-02a7d6cbb910"
      },
      "execution_count": 55,
      "outputs": [
        {
          "output_type": "execute_result",
          "data": {
            "text/plain": [
              "matrix([[0., 0., 0., ..., 0., 0., 0.],\n",
              "        [0., 0., 0., ..., 0., 0., 0.],\n",
              "        [0., 0., 0., ..., 0., 0., 0.],\n",
              "        ...,\n",
              "        [0., 0., 0., ..., 0., 0., 0.],\n",
              "        [0., 0., 0., ..., 0., 0., 0.],\n",
              "        [0., 0., 0., ..., 0., 0., 0.]])"
            ]
          },
          "metadata": {},
          "execution_count": 55
        }
      ]
    },
    {
      "cell_type": "code",
      "source": [
        "features"
      ],
      "metadata": {
        "colab": {
          "base_uri": "https://localhost:8080/"
        },
        "id": "cEwd07jyNEfp",
        "outputId": "3d3b24d5-b2f3-4086-af5e-0ccc5d9989e0"
      },
      "execution_count": 56,
      "outputs": [
        {
          "output_type": "execute_result",
          "data": {
            "text/plain": [
              "<17098x8740 sparse matrix of type '<class 'numpy.int64'>'\n",
              "\twith 165249 stored elements in Compressed Sparse Row format>"
            ]
          },
          "metadata": {},
          "execution_count": 56
        }
      ]
    }
  ]
}